{
  "nbformat": 4,
  "nbformat_minor": 0,
  "metadata": {
    "colab": {
      "provenance": []
    },
    "kernelspec": {
      "name": "python3",
      "display_name": "Python 3"
    },
    "language_info": {
      "name": "python"
    }
  },
  "cells": [
    {
      "cell_type": "markdown",
      "source": [
        "# **Caesar Cryption**\n",
        "\n",
        "Dibawah merupakah metode encrypsi caesar. Yaitu dengan menggeser huruf sebanyak x, dari huruf alphabet.\n",
        "\n",
        "ABCDEFGHIJKLMNOPQRSTUVWXYZ"
      ],
      "metadata": {
        "id": "ngzyyC2ZrUeE"
      }
    },
    {
      "cell_type": "code",
      "execution_count": 17,
      "metadata": {
        "colab": {
          "base_uri": "https://localhost:8080/"
        },
        "id": "iSuV1bEJrTeg",
        "outputId": "e3647d58-ca65-4169-f125-706f590c9d0b"
      },
      "outputs": [
        {
          "output_type": "stream",
          "name": "stdout",
          "text": [
            "Input text: Python is fun\n",
            "Pergeseran: 99\n",
            "Enkripsi? (Y/N): y\n",
            "Crypted Text: ktocji dn api\n"
          ]
        }
      ],
      "source": [
        "# Input kata yang akan di enkripsi\n",
        "\n",
        "message = input('Input text: ')\n",
        "shift = int(input('Pergeseran: '))\n",
        "encrypt = input('Enkripsi? (Y/N): ')\n",
        "\n",
        "if encrypt.lower()== 'y':\n",
        "  direction = 1\n",
        "else:\n",
        "  direction = -1\n",
        "\n",
        "alphabet = 'abcdefghijklmnopqrstuvwxyz'\n",
        "\n",
        "# Prosesing enkripsi\n",
        "\n",
        "def caesar (message, shift, direction=1):\n",
        "  encrypted_text = ''\n",
        "\n",
        "  for char in message.lower():\n",
        "    if char == ' ':\n",
        "      encrypted_text += char\n",
        "\n",
        "    else:\n",
        "      index = alphabet.find(char)\n",
        "      new_index = (index + shift*direction)%len(alphabet) # Find either encrypt or decrypt\n",
        "      encrypted_text += alphabet[new_index]\n",
        "\n",
        "  return encrypted_text\n",
        "\n",
        "# Printout hasil enkripsi\n",
        "output = caesar (message, shift, direction)\n",
        "\n",
        "print(f'Crypted Text: {output}')"
      ]
    },
    {
      "cell_type": "code",
      "source": [],
      "metadata": {
        "id": "ovOrjC3eurON"
      },
      "execution_count": null,
      "outputs": []
    }
  ]
}